{
 "cells": [
  {
   "cell_type": "markdown",
   "metadata": {},
   "source": [
    "#### 1.1. Write a Python Program (with class concepts) to find the area of the triangle using the below formula.\n",
    "area = (s* (s-a) * (s-b) * (s-c)) * * 0.5\n",
    "\n",
    "Function to take the length of the sides of triangle from user should be defined in the parent\n",
    "class and function to calculate the area should be defined in subclass."
   ]
  },
  {
   "cell_type": "code",
   "execution_count": 37,
   "metadata": {},
   "outputs": [
    {
     "name": "stdout",
     "output_type": "stream",
     "text": [
      "Area of the Triangle is 51.52 square cm.\n"
     ]
    }
   ],
   "source": [
    "class Triangle:\n",
    "    def __init__(self, a, b, c, units):\n",
    "        self.a = a\n",
    "        self.b = b\n",
    "        self.c = c\n",
    "        self.units = units\n",
    "\n",
    "class SSS(Triangle):\n",
    "    def area(self):\n",
    "        s=(self.a+self.b+self.c)/2\n",
    "        area = (s*(s-self.a)*(s-self.b)*(s-self.c))**0.5\n",
    "        return area\n",
    "        \n",
    "Prob1=SSS(10,11,12, \"cm.\")\n",
    "Area=Prob1.area()\n",
    "print(f\"Area of the Triangle is {round(Area,2)} square {Prob1.units}\")\n"
   ]
  },
  {
   "cell_type": "markdown",
   "metadata": {},
   "source": [
    "#### 1.2. Write a function filter_long_words() that takes a list of words and an integer n and returns the list of words that are longer than n.    "
   ]
  },
  {
   "cell_type": "code",
   "execution_count": 26,
   "metadata": {},
   "outputs": [
    {
     "data": {
      "text/plain": [
       "['Duryodhan']"
      ]
     },
     "execution_count": 26,
     "metadata": {},
     "output_type": "execute_result"
    }
   ],
   "source": [
    "long_words=[]\n",
    "def filter_long_words(n, words):\n",
    "    for i in words:\n",
    "        if len(i)>n:\n",
    "            long_words.append(i)            \n",
    "        else:\n",
    "            pass\n",
    "    return long_words\n",
    "\n",
    "words = [\"Duryodhan\", \"Arjun\"]\n",
    "\n",
    "long_words=filter_long_words(5, words)\n",
    "long_words"
   ]
  },
  {
   "cell_type": "markdown",
   "metadata": {},
   "source": [
    "#### 2.1 Write a Python program using function concept that maps list of words into a list of integers representing the lengths of the corresponding words. Hint: If a list [ ab,cde,erty] is passed on to the python function output should come as [2,3,4] Here 2,3 and 4 are the lengths of the words in the list."
   ]
  },
  {
   "cell_type": "code",
   "execution_count": 34,
   "metadata": {},
   "outputs": [
    {
     "data": {
      "text/plain": [
       "[9, 5]"
      ]
     },
     "execution_count": 34,
     "metadata": {},
     "output_type": "execute_result"
    }
   ],
   "source": [
    "words_length=[]\n",
    "def fetch_length(words):\n",
    "    for i in words:\n",
    "        words_length.append(len(i))            \n",
    "    return words_length\n",
    "\n",
    "words = [\"Duryodhan\", \"Arjun\"]\n",
    "\n",
    "words_length=fetch_length(words)\n",
    "words_length"
   ]
  },
  {
   "cell_type": "markdown",
   "metadata": {},
   "source": [
    "#### 2.2 Write a Python function which takes a character (i.e. a string of length 1) and returns True if it is a vowel, False otherwise."
   ]
  },
  {
   "cell_type": "code",
   "execution_count": 36,
   "metadata": {},
   "outputs": [
    {
     "name": "stdout",
     "output_type": "stream",
     "text": [
      "False\n"
     ]
    }
   ],
   "source": [
    "Vowels = ['a','e','i','o','u']\n",
    "def IsVowel(letter):\n",
    "    for i in Vowels:\n",
    "        if letter==i:\n",
    "            print(True)\n",
    "            break\n",
    "        else:\n",
    "            print(False)\n",
    "            break\n",
    "\n",
    "IsVowel(\"h\")"
   ]
  }
 ],
 "metadata": {
  "kernelspec": {
   "display_name": "Python 3",
   "language": "python",
   "name": "python3"
  },
  "language_info": {
   "codemirror_mode": {
    "name": "ipython",
    "version": 3
   },
   "file_extension": ".py",
   "mimetype": "text/x-python",
   "name": "python",
   "nbconvert_exporter": "python",
   "pygments_lexer": "ipython3",
   "version": "3.7.4"
  }
 },
 "nbformat": 4,
 "nbformat_minor": 2
}
