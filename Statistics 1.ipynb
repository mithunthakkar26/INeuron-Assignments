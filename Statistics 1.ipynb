{
 "cells": [
  {
   "cell_type": "markdown",
   "metadata": {},
   "source": [
    "<b>Calculate the mean, median, mode and standard deviation for the problem\n",
    "statements 1&2 <br> 1. The marks awarded for an assignment set for a Year 8 class of 20 students were as follows: <br> 6 7 5 7 7 8 7 6 9 7 4 10 6 8 8 9 5 6 4 8"
   ]
  },
  {
   "cell_type": "code",
   "execution_count": 2,
   "metadata": {},
   "outputs": [],
   "source": [
    "import numpy as np\n",
    "import statistics as st\n",
    "import matplotlib.pyplot as plt"
   ]
  },
  {
   "cell_type": "code",
   "execution_count": 3,
   "metadata": {},
   "outputs": [
    {
     "name": "stdout",
     "output_type": "stream",
     "text": [
      "6.85\n",
      "7.0\n",
      "7\n",
      "1.6311119875071343\n"
     ]
    }
   ],
   "source": [
    "a = [6, 7, 5, 7, 7, 8, 7, 6, 9, 7, 4, 10, 6, 8, 8, 9, 5, 6, 4, 8]\n",
    "print(np.mean(a))\n",
    "print(np.median(a))\n",
    "print(st.mode(a))\n",
    "print(st.stdev(a))"
   ]
  },
  {
   "cell_type": "markdown",
   "metadata": {},
   "source": [
    "<b>Problem Statement 2: <br>\n",
    "The number of calls from motorists per day for roadside service was recorded for a\n",
    "particular month: <br>\n",
    "28, 122, 217, 130, 120, 86, 80, 90, 140, 120, 70, 40, 145, 113, 90, 68, 174, 194, 170,\n",
    "100, 75, 104, 97, 75,\n",
    "123, 100, 75, 104, 97, 75, 123, 100, 89, 120, 109"
   ]
  },
  {
   "cell_type": "code",
   "execution_count": 4,
   "metadata": {},
   "outputs": [
    {
     "name": "stdout",
     "output_type": "stream",
     "text": [
      "107.51428571428572\n",
      "100.0\n",
      "75\n",
      "39.33892805484412\n"
     ]
    }
   ],
   "source": [
    "b = [28, 122, 217, 130, 120, 86, 80, 90, 140, 120, 70, 40, 145, 113, 90, 68, 174, 194, 170, 100, 75, 104, 97, 75, 123, 100, 75, 104, 97, 75, 123, 100, 89, 120, 109]\n",
    "print(np.mean(b))\n",
    "print(np.median(b))\n",
    "print(st.mode(b))\n",
    "print(st.stdev(b))"
   ]
  },
  {
   "cell_type": "markdown",
   "metadata": {},
   "source": [
    "<b>Problem Statement 3:<br>\n",
    "<b>The number of times I go to the gym in weekdays, are given below along with its\n",
    "associated probability:<br>\n",
    "x = 0, 1, 2, 3, 4, 5<br>\n",
    "f(x) = 0.09, 0.15, 0.40, 0.25, 0.10, 0.01<br>\n",
    "Calculate the mean no. of workouts in a week. Also evaluate the variance involved in\n",
    "it."
   ]
  },
  {
   "cell_type": "code",
   "execution_count": 5,
   "metadata": {},
   "outputs": [
    {
     "name": "stdout",
     "output_type": "stream",
     "text": [
      "2.15\n",
      "0.12341666666666667\n"
     ]
    }
   ],
   "source": [
    "import operator\n",
    "\n",
    "def dotproduct(vec1, vec2):\n",
    "    return sum(map(operator.mul, vec1, vec2))\n",
    "\n",
    "x = [0, 1, 2, 3, 4, 5]\n",
    "f = [0.09, 0.15, 0.40, 0.25, 0.10, 0.01]\n",
    "print(dotproduct(x,f))\n",
    "print(st.variance(list(map(operator.mul, x, f))))"
   ]
  },
  {
   "cell_type": "markdown",
   "metadata": {},
   "source": [
    "<b>Problem Statement 4:<br>\n",
    "Let the continuous random variable D denote the diameter of the hole drilled in an\n",
    "aluminum sheet. The target diameter to be achieved is 12.5mm. <br>Random\n",
    "disturbances in the process often result in inaccuracy.\n",
    "Historical data shows that the distribution of D can be modelled by the PDF (𝑑) =\n",
    "20𝑒−20(𝑑−12.5), 𝑑 ≥ 12.5. <br>If a part with diameter > 12.6 mm needs to be scrapped,\n",
    "what is the proportion of those parts? <br>What is the CDF when the diameter is of 11\n",
    "mm? What is your conclusion regarding the proportion of scraps?"
   ]
  },
  {
   "cell_type": "code",
   "execution_count": 6,
   "metadata": {},
   "outputs": [
    {
     "name": "stdout",
     "output_type": "stream",
     "text": [
      "0.4810247811209487\n",
      "0.40576068881148264\n"
     ]
    }
   ],
   "source": [
    "from scipy.stats import poisson\n",
    "print(1-poisson.cdf(12.6, 12.5))\n",
    "print(poisson.cdf(11, 12.5))"
   ]
  },
  {
   "cell_type": "markdown",
   "metadata": {},
   "source": [
    "#### Problem Statement 5: <br>\n",
    "A company manufactures LED bulbs with a faulty rate of 30%. If I randomly select 6 <br>\n",
    "chosen LEDs, what is the probability of having 2 faulty LEDs in my sample? <br>\n",
    "Calculate the average value of this process. Also evaluate the standard deviation <br>\n",
    "associated with it."
   ]
  },
  {
   "cell_type": "code",
   "execution_count": 7,
   "metadata": {},
   "outputs": [
    {
     "name": "stdout",
     "output_type": "stream",
     "text": [
      "0.32413499999999995\n",
      "3.5\n",
      "1.8708286933869707\n"
     ]
    }
   ],
   "source": [
    "from scipy.stats import binom\n",
    "prob =binom.pmf(k = 2, n = 6, p = 0.3) \n",
    "print(prob)\n",
    "print(np.mean([1,2,3,4,5,6]))\n",
    "print(st.stdev([1,2,3,4,5,6]))"
   ]
  },
  {
   "cell_type": "markdown",
   "metadata": {},
   "source": [
    "#### Problem Statement 6: <br>\n",
    "Gaurav and Barakha are both preparing for entrance exams. Gaurav attempts to<br>\n",
    "solve 8 questions per day with a correction rate of 75%, while Barakha averages<br>\n",
    "around 12 questions per day with a correction rate of 45%. What is the probability<br>\n",
    "that each of them will solve 5 questions correctly? What happens in cases of 4 and 6<br>\n",
    "correct solutions? What do you infer from it? What are the two main governing<br>\n",
    "factors affecting their ability to solve questions correctly? Give a pictorial<br>\n",
    "representation of the same to validate your answer."
   ]
  },
  {
   "cell_type": "code",
   "execution_count": 40,
   "metadata": {},
   "outputs": [
    {
     "name": "stdout",
     "output_type": "stream",
     "text": [
      "0.20764160156250022\n",
      "0.22249823843265792\n"
     ]
    },
    {
     "data": {
      "image/png": "[encoded data removed]",
      "text/plain": [
       "<Figure size 432x288 with 1 Axes>"
      ]
     },
     "metadata": {
      "needs_background": "light"
     },
     "output_type": "display_data"
    }
   ],
   "source": [
    "print(binom.pmf(k = 5, n = 8, p = 0.75))\n",
    "print(binom.pmf(k = 5, n = 12, p = 0.45))\n",
    "# 2 governing factors driving their ability to solve questions is the correction rate and number of attempts\n",
    "# as can be seen in the pictorial representation below = higher correction rate ensures steeper distribution \n",
    "# while number of attempts ensure the distribution to be spread out\n",
    "\n",
    "plt.ylabel('Probability of Correct answers')\n",
    "plt.xlabel('Number of Questions')\n",
    "plt.title('Probability Distribution Curve')\n",
    "arr = []\n",
    "arr1 = []\n",
    "rv = binom(n = 8, p = 0.75)\n",
    "for num in range(0,15):\n",
    "    arr.append(rv.pmf(num))\n",
    "\n",
    "rv1 = binom(n = 12, p = 0.45)\n",
    "for num1 in range(0,15):\n",
    "    arr1.append(rv1.pmf(num1))\n",
    " \n",
    "\n",
    "prob = rv.pmf(5)\n",
    "prob1 = rv1.pmf(5)\n",
    "prob2 = rv.pmf(4)\n",
    "prob3 = rv1.pmf(4)\n",
    "prob4 = rv.pmf(6)\n",
    "prob5 = rv1.pmf(6)\n",
    "\n",
    "plt.grid(True)\n",
    "plt.plot(arr, linewidth=2.0)\n",
    "plt.plot(arr1, linewidth=2.0)\n",
    "plt.plot([5], [prob], marker='x', markersize=6, color=\"blue\", label = 'Gaurav')\n",
    "plt.plot([5], [prob1], marker='o', markersize=6, color=\"brown\", label = 'Barkha')\n",
    "plt.plot([4], [prob2], marker='x', markersize=6, color=\"blue\")\n",
    "plt.plot([4], [prob3], marker='o', markersize=6, color=\"brown\")\n",
    "plt.plot([6], [prob4], marker='x', markersize=6, color=\"blue\")\n",
    "plt.plot([6], [prob5], marker='o', markersize=6, color=\"brown\")\n",
    "plt.legend()\n",
    "\n",
    "plt.show()"
   ]
  },
  {
   "cell_type": "markdown",
   "metadata": {},
   "source": [
    "#### Problem Statement 7:<br>\n",
    "Customers arrive at a rate of 72 per hour to my shop. What is the probability of 𝑘<br>\n",
    "customers arriving in 4 minutes? a) 5 customers, b) not more than 3 customers, c)<br>\n",
    "more than 3 customers. Give a pictorial representation of the same to validate your<br>\n",
    "answer."
   ]
  },
  {
   "cell_type": "code",
   "execution_count": 28,
   "metadata": {},
   "outputs": [
    {
     "name": "stdout",
     "output_type": "stream",
     "text": [
      "0.04326361560291093\n",
      "0.00043307394734864795\n",
      "0.9995669260526514\n"
     ]
    },
    {
     "data": {
      "image/png": "[encoded data removed]",
      "text/plain": [
       "<Figure size 432x288 with 1 Axes>"
      ]
     },
     "metadata": {
      "needs_background": "light"
     },
     "output_type": "display_data"
    }
   ],
   "source": [
    "from scipy.stats import poisson\n",
    "print(poisson.pmf(75, 72))\n",
    "print(poisson.cdf(45, 72))\n",
    "print(1-poisson.cdf(45, 72))\n",
    "\n",
    "\n",
    "plt.ylabel('Probability of Customers arriving')\n",
    "plt.xlabel('Number of customers')\n",
    "plt.title('Probability Distribution Curve')\n",
    "arr = []\n",
    "arr1 = []\n",
    "arr2 = []\n",
    "rv = poisson(72)\n",
    "for num in range(0,90):\n",
    "    arr.append(rv.pmf(num))\n",
    "    arr1.append(rv.cdf(num))\n",
    "    arr2.append(1-rv.cdf(num))\n",
    " \n",
    "# print(rv.pmf(28))\n",
    "prob = rv.pmf(75)\n",
    "prob1 = rv.cdf(45)\n",
    "prob2 = 1-rv.cdf(45)\n",
    "plt.grid(True)\n",
    "plt.plot(arr, linewidth=2.0)\n",
    "plt.plot(arr1, linewidth=2.0)\n",
    "plt.plot(arr2, linewidth=2.0)\n",
    "plt.plot([75], [prob], marker='o', markersize=6, color=\"blue\", label = '5 customers')\n",
    "plt.plot([45], [prob1], marker='x', markersize=6, color=\"brown\", label = 'not more than 3 customers')\n",
    "plt.plot([45], [prob2], marker='v', markersize=6, color=\"green\", label = 'more than 3 customers')\n",
    "plt.legend()\n",
    "plt.show()"
   ]
  },
  {
   "cell_type": "markdown",
   "metadata": {},
   "source": [
    "#### Problem Statement 8:<br>\n",
    "I work as a data analyst in Aeon Learning Pvt. Ltd. After analyzing data, I make<br>\n",
    "reports, where I have the efficiency of entering 77 words per minute with 6 errors per<br>\n",
    "hour. What is the probability that I will commit 2 errors in a 455-word financial report?<br>\n",
    "What happens when the no. of words increases/decreases (in case of 1000 words,<br>\n",
    "255 words)?<br>\n",
    "How is the 𝜆 affected?<br>\n",
    "How does it influence the PMF?<br>\n",
    "Give a pictorial representation of the same to validate your answer.<br>"
   ]
  },
  {
   "cell_type": "code",
   "execution_count": 56,
   "metadata": {},
   "outputs": [
    {
     "name": "stdout",
     "output_type": "stream",
     "text": [
      "0.0\n",
      "0.0\n",
      "0.0\n"
     ]
    },
    {
     "data": {
      "image/png": "[encoded data removed]",
      "text/plain": [
       "<Figure size 432x288 with 1 Axes>"
      ]
     },
     "metadata": {
      "needs_background": "light"
     },
     "output_type": "display_data"
    }
   ],
   "source": [
    "print(poisson.pmf(2/455, 6/(77*60)))\n",
    "print(poisson.pmf(2/1000, 6/(77*60)))\n",
    "print(poisson.pmf(2/255, 6/(77*60)))\n",
    "\n",
    "plt.ylabel('Probability of committing errors')\n",
    "plt.xlabel('Number of errors')\n",
    "plt.title('Probability Distribution Curve')\n",
    "arr = []\n",
    "arr1 = []\n",
    "arr2 = []\n",
    "rv = poisson(6/(77*60))\n",
    "rv1 = poisson(6/(77*60))\n",
    "rv2 = poisson(6/(77*60))\n",
    "for num in range(0,6):\n",
    "    arr.append(rv.pmf(num))\n",
    "    \n",
    "for num in range(0,6):\n",
    "    arr1.append(rv1.pmf(num))\n",
    "    \n",
    "for num in range(0,6):\n",
    "    arr2.append(rv2.pmf(num))\n",
    " \n",
    "# print(rv.pmf(28))\n",
    "prob = rv.pmf(2/455)\n",
    "prob1 = rv1.pmf(2/1000)\n",
    "prob2 = rv2.pmf(2/255)\n",
    "plt.grid(True)\n",
    "plt.plot(arr, linewidth=2.0)\n",
    "plt.plot(arr1, linewidth=2.0)\n",
    "plt.plot(arr2, linewidth=2.0)\n",
    "plt.plot([2], [prob], marker='o', markersize=6, color=\"blue\")\n",
    "plt.plot([2], [prob1], marker='x', markersize=6, color=\"brown\")\n",
    "plt.plot([2], [prob2], marker='v', markersize=6, color=\"green\")\n",
    "plt.show()"
   ]
  },
  {
   "cell_type": "markdown",
   "metadata": {},
   "source": [
    "#### Problem Statement 9:<br>\n",
    "Let the continuous random variable D denote the diameter of the hole drilled in an<br>\n",
    "aluminum sheet. The target diameter to be achieved is 12.5mm. Random<br>\n",
    "disturbances in the process often result in inaccuracy.<br>\n",
    "Historical data shows that the distribution of D can be modelled by the PDF, f(d) =<br>\n",
    "20e−20(d−12.5), d ≥ 12.5. If a part with diameter > 12.6 mm needs to be scrapped,<br>\n",
    "what is the proportion of those parts? What is the CDF when the diameter is of 11<br>\n",
    "mm?<br>\n",
    "What is the conclusion of this experiment?"
   ]
  },
  {
   "cell_type": "code",
   "execution_count": 121,
   "metadata": {},
   "outputs": [
    {
     "name": "stdout",
     "output_type": "stream",
     "text": [
      "0.4810247811209487\n",
      "0.40576068881148264\n"
     ]
    }
   ],
   "source": [
    "from scipy.stats import poisson\n",
    "print(1-poisson.cdf(12.6, 12.5))\n",
    "print(poisson.cdf(11, 12.5))"
   ]
  },
  {
   "cell_type": "markdown",
   "metadata": {},
   "source": [
    "#### Problem Statement 10: <br>\n",
    "Please compute the following:<br>\n",
    "a) P(Z > 1.26), . P(Z < −0.86), P(Z > −1.37), P(−1.25 < Z < 0.37), . P(Z ≤ −4.6)<br>\n",
    "b) Find the value 𝑧 such that 𝑃(𝑍 > 𝑧) = 0.05<br>\n",
    "c) Find the value of 𝑧 such that 𝑃(−𝑧 < 𝑍 < 𝑧) = 0.99<br>"
   ]
  },
  {
   "cell_type": "code",
   "execution_count": 109,
   "metadata": {},
   "outputs": [
    {
     "name": "stdout",
     "output_type": "stream",
     "text": [
      "0.10564977366685535\n",
      "0.8078497978963038\n",
      "0.08534345082196698\n",
      "0.5367417520966908\n",
      "0.9999978875452975\n",
      "-1.6448536269514729\n",
      "Total Probability:1\n",
      "1-0.99=0.01\n",
      "Divided by 2:0.005\n",
      "P(Z<0.01)=+-2.575829303548901\n"
     ]
    }
   ],
   "source": [
    "import scipy.stats as ss\n",
    "print(1-ss.norm.cdf(1.25))\n",
    "print(1-ss.norm.cdf(-0.87))\n",
    "print(ss.norm.cdf(-1.37))      \n",
    "print(ss.norm.cdf(0.36)-ss.norm.cdf(-1.26))\n",
    "print(1-ss.norm.cdf(-4.6))\n",
    "print(ss.norm.ppf(0.05))\n",
    "print(f\"Total Probability:{1}\")\n",
    "print(\"1-0.99=0.01\")\n",
    "print(f\"Divided by 2:{0.01/2}\")\n",
    "print(f\"P(Z<0.01)=+{ss.norm.ppf(0.005)}\")\n"
   ]
  },
  {
   "cell_type": "markdown",
   "metadata": {},
   "source": [
    "#### Problem Statement 11: <br>\n",
    "The current flow in a copper wire follow a normal distribution with a mean of 10 𝑚A<br>\n",
    "and a variance of 4 (𝑚𝐴)2.<br>\n",
    "What is the probability that a current measurement will exceed 13 𝑚𝐴? What is the<br>\n",
    "probability that a current measurement is between 9 and 11mA? Determine the<br>\n",
    "current measurement which has a probability of 0.98.<br>"
   ]
  },
  {
   "cell_type": "code",
   "execution_count": 49,
   "metadata": {},
   "outputs": [
    {
     "name": "stdout",
     "output_type": "stream",
     "text": [
      "0.15865525393145707\n",
      "0.532807207342556\n",
      "0.9772498680518208\n"
     ]
    }
   ],
   "source": [
    "Mean = 10\n",
    "var = 4\n",
    "from scipy.stats import norm \n",
    "import math\n",
    "print(1-norm.cdf(12, Mean, math.sqrt(var)))\n",
    "print(norm.cdf(11, Mean, math.sqrt(var))-norm.cdf(8, Mean, math.sqrt(var)))\n",
    "print(norm.cdf(14, Mean, math.sqrt(var)))"
   ]
  },
  {
   "cell_type": "markdown",
   "metadata": {},
   "source": [
    "#### Problem Statement 12:<br>\n",
    "The shaft in a piston has its diameter normally distributed with a mean of 0.2508 inch<br>\n",
    "and a standard deviation of 0.0005 inch. The specifications of the shaft are 0.2500 ∓<br>\n",
    "0.0015 inch. What proportion of shafts are in sync with the specifications? If the<br>\n",
    "process is centered so that the mean is equal to the target value of 0.2500, what<br>\n",
    "proportion of shafts conform to the new specifications? What is your conclusion from<br>\n",
    "this experiment?<br>"
   ]
  },
  {
   "cell_type": "code",
   "execution_count": 52,
   "metadata": {},
   "outputs": [
    {
     "name": "stdout",
     "output_type": "stream",
     "text": [
      "0.9192425474380705\n",
      "0.997962964030454\n"
     ]
    }
   ],
   "source": [
    "Mean = 0.2508\n",
    "stddev = 0.0005\n",
    "print(norm.cdf(0.2515, Mean, stddev)-norm.cdf(0.2484, Mean, stddev))\n",
    "Mean = 0.2500\n",
    "print(norm.cdf(0.2515, Mean, stddev)-norm.cdf(0.2484, Mean, stddev))"
   ]
  }
 ],
 "metadata": {
  "kernelspec": {
   "display_name": "Python 3",
   "language": "python",
   "name": "python3"
  },
  "language_info": {
   "codemirror_mode": {
    "name": "ipython",
    "version": 3
   },
   "file_extension": ".py",
   "mimetype": "text/x-python",
   "name": "python",
   "nbconvert_exporter": "python",
   "pygments_lexer": "ipython3",
   "version": "3.7.4"
  }
 },
 "nbformat": 4,
 "nbformat_minor": 4
}
