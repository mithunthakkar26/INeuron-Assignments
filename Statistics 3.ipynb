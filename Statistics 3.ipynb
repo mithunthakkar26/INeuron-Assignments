{
 "cells": [
  {
   "cell_type": "code",
   "execution_count": 3,
   "metadata": {},
   "outputs": [],
   "source": [
    "from scipy import stats \n",
    "from scipy.stats import ttest_ind_from_stats \n",
    "from statsmodels.stats.proportion import proportions_ztest\n",
    "import numpy as np\n",
    "from scipy.stats import norm \n",
    "import math\n",
    "from scipy.stats import chisquare\n",
    "from tabulate import tabulate\n",
    "import statistics as ss\n",
    "from scipy.stats import t\n"
   ]
  },
  {
   "cell_type": "markdown",
   "metadata": {},
   "source": [
    "#### Problem Statement 1: <br>\n",
    "Blood glucose levels for obese patients have a mean of 100 with a standard deviation of <br>\n",
    "15\\. A researcher thinks that a diet high in raw cornstarch will have a positive effect on <br>\n",
    "blood glucose levels. A sample of 36 patients who have tried the raw cornstarch diet <br>\n",
    "have a mean glucose level of 108. Test the hypothesis that the raw cornstarch had an <br>\n",
    "effect or not. <br>"
   ]
  },
  {
   "cell_type": "code",
   "execution_count": 7,
   "metadata": {},
   "outputs": [
    {
     "name": "stdout",
     "output_type": "stream",
     "text": [
      "P value is 0.0006871379379158604 at a significance level of 0.025. Hence we reject the null hypothesis and conclude that diet high in raw cornstarch has a positive effect on blood glucose levels. Mu !=100\n"
     ]
    }
   ],
   "source": [
    "Mu = 100\n",
    "sigma = 15\n",
    "n = 36\n",
    "x = 108\n",
    "#H0: diet high in raw cornstarch does not have a positive effect on blood glucose levels. Mu = 100\n",
    "#H1: diet high in raw cornstarch has a positive effect on blood glucose levels. Mu !=100\n",
    "alpha = 0.05\n",
    "\n",
    "print(f\"P value is {1-norm.cdf(x, Mu, sigma/np.sqrt(n))} at a significance level of {alpha/2}. Hence we reject the null hypothesis and conclude that diet high in raw cornstarch has a positive effect on blood glucose levels. Mu !=100\")\n",
    "\n",
    "\n"
   ]
  },
  {
   "cell_type": "markdown",
   "metadata": {},
   "source": [
    "#### Problem Statement 2: <br>\n",
    "In one state, 52% of the voters are Republicans, and 48% are Democrats. In a second <br>\n",
    "state, 47% of the voters are Republicans, and 53% are Democrats. Suppose a simple <br>\n",
    "random sample of 100 voters are surveyed from each state. <br>\n",
    "What is the probability that the survey will show a greater percentage of Republican <br>\n",
    "voters in the second state than in the first state? <br>"
   ]
  },
  {
   "cell_type": "code",
   "execution_count": 27,
   "metadata": {},
   "outputs": [
    {
     "name": "stdout",
     "output_type": "stream",
     "text": [
      "Mean of the difference in sample proportions: 0.050000000000000044\n",
      "Mean of the difference in sample proportions: 0.07079548008171144\n",
      "-0.7062597773514714\n"
     ]
    },
    {
     "data": {
      "text/plain": [
       "0.24001330106244623"
      ]
     },
     "execution_count": 27,
     "metadata": {},
     "output_type": "execute_result"
    }
   ],
   "source": [
    "n = 100\n",
    "x1 = 52\n",
    "𝑝1 = 0.52\n",
    "\n",
    "x2 = 47\n",
    "𝑝2= 0.47\n",
    "\n",
    "Mu = p1-p2\n",
    "sigma = np.sqrt(((p1)*(1-p2)/n)+((1-p1)*(p2)/n))\n",
    "print(f\"Mean of the difference in sample proportions: {Mu}\")\n",
    "print(f\"Mean of the difference in sample proportions: {sigma}\")\n",
    "x = 0\n",
    "\n",
    "z = (x-Mu)/sigma\n",
    "print(z)\n",
    "norm.cdf(z)\n",
    "\n"
   ]
  },
  {
   "cell_type": "markdown",
   "metadata": {},
   "source": [
    "#### Problem Statement 3: <br>\n",
    "You take the SAT and score 1100. The mean score for the SAT is 1026 and the standard <br>\n",
    "deviation is 209. How well did you score on the test compared to the average test taker? <br>"
   ]
  },
  {
   "cell_type": "code",
   "execution_count": 28,
   "metadata": {},
   "outputs": [
    {
     "name": "stdout",
     "output_type": "stream",
     "text": [
      "0.35406698564593303\n"
     ]
    },
    {
     "data": {
      "text/plain": [
       "0.6383556584353189"
      ]
     },
     "execution_count": 28,
     "metadata": {},
     "output_type": "execute_result"
    }
   ],
   "source": [
    "x= 1100\n",
    "Mu = 1026\n",
    "sigma = 209\n",
    "z = (x-Mu)/sigma\n",
    "print(z)\n",
    "norm.cdf(z)\n"
   ]
  }
 ],
 "metadata": {
  "kernelspec": {
   "display_name": "Python 3",
   "language": "python",
   "name": "python3"
  },
  "language_info": {
   "codemirror_mode": {
    "name": "ipython",
    "version": 3
   },
   "file_extension": ".py",
   "mimetype": "text/x-python",
   "name": "python",
   "nbconvert_exporter": "python",
   "pygments_lexer": "ipython3",
   "version": "3.7.4"
  }
 },
 "nbformat": 4,
 "nbformat_minor": 4
}
