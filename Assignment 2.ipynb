{
 "cells": [
  {
   "attachments": {},
   "cell_type": "markdown",
   "metadata": {},
   "source": [
    "#### 1. Create the below pattern using nested for loop in Python.\n",
    "#### __\\*__\n",
    "#### __\\* \\*__\n",
    "#### __\\*\\* \\*__\n",
    "#### __\\* \\* \\* \\*__\n",
    "#### __\\* \\* \\* \\* \\*__\n",
    "#### __\\* \\* \\* \\*__\n",
    "#### __\\* \\* \\*__\n",
    "#### __\\* \\*__\n",
    "#### __\\*__"
   ]
  },
  {
   "cell_type": "code",
   "execution_count": 115,
   "metadata": {},
   "outputs": [
    {
     "name": "stdout",
     "output_type": "stream",
     "text": [
      "\n",
      "*\n",
      "**\n",
      "***\n",
      "****\n",
      "*****\n",
      "****\n",
      "***\n",
      "**\n",
      "*\n"
     ]
    }
   ],
   "source": [
    "for i in range(1,3):\n",
    "    if i==1:\n",
    "        for j in range(5):\n",
    "            print((j)*\"*\")\n",
    "    elif i==2:\n",
    "        for k in range(5,0,-1):\n",
    "            print(k*\"*\")\n",
    "        "
   ]
  },
  {
   "cell_type": "markdown",
   "metadata": {},
   "source": [
    "#### 2. Write a Python program to reverse a word after accepting the input from the user.\n"
   ]
  },
  {
   "cell_type": "code",
   "execution_count": 8,
   "metadata": {},
   "outputs": [
    {
     "name": "stdout",
     "output_type": "stream",
     "text": [
      "Please enter text: afafaf\n",
      "\n",
      "dfdfaf\n",
      "fafdfd\n"
     ]
    }
   ],
   "source": [
    "print(f\"Please enter word: \\n\")\n",
    "\n",
    "i=input()\n",
    "print(i[::-1])"
   ]
  }
 ],
 "metadata": {
  "kernelspec": {
   "display_name": "Python 3",
   "language": "python",
   "name": "python3"
  },
  "language_info": {
   "codemirror_mode": {
    "name": "ipython",
    "version": 3
   },
   "file_extension": ".py",
   "mimetype": "text/x-python",
   "name": "python",
   "nbconvert_exporter": "python",
   "pygments_lexer": "ipython3",
   "version": "3.7.4"
  }
 },
 "nbformat": 4,
 "nbformat_minor": 2
}
